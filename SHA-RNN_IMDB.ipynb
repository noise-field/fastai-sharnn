{
 "cells": [
  {
   "cell_type": "markdown",
   "metadata": {},
   "source": [
    "# Fine-tune SHA-RNN with ULMFiT on IMDB"
   ]
  },
  {
   "cell_type": "code",
   "execution_count": 1,
   "metadata": {},
   "outputs": [],
   "source": [
    "import os\n",
    "import torch\n",
    "from torch import nn\n",
    "from fastai.text import *\n",
    "from fastai.callbacks import *"
   ]
  },
  {
   "cell_type": "code",
   "execution_count": 2,
   "metadata": {},
   "outputs": [],
   "source": [
    "DATA_PATH = os.path.join(\".\", \"sha_rnn\")"
   ]
  },
  {
   "cell_type": "markdown",
   "metadata": {},
   "source": [
    "## LM fine-tuning"
   ]
  },
  {
   "cell_type": "markdown",
   "metadata": {},
   "source": [
    "Note that we want to take advantage of the attentional layer of SHA-RNN, so we use a larger BPTT value."
   ]
  },
  {
   "cell_type": "code",
   "execution_count": 3,
   "metadata": {},
   "outputs": [],
   "source": [
    "bs, bptt = 16, 300"
   ]
  },
  {
   "cell_type": "code",
   "execution_count": 4,
   "metadata": {},
   "outputs": [],
   "source": [
    "path = untar_data(URLs.IMDB)"
   ]
  },
  {
   "cell_type": "code",
   "execution_count": 5,
   "metadata": {},
   "outputs": [],
   "source": [
    "with open(\"/workspace/data/sha_rnn/wt_lm_vocab.pkl\", \"rb\") as f:\n",
    "    vocab = pickle.load(f)"
   ]
  },
  {
   "cell_type": "code",
   "execution_count": 6,
   "metadata": {},
   "outputs": [],
   "source": [
    "vocab = Vocab(vocab)"
   ]
  },
  {
   "cell_type": "code",
   "execution_count": null,
   "metadata": {},
   "outputs": [],
   "source": [
    "data_lm = (TextList.from_folder(path)\n",
    "           #Inputs: all the text files in path\n",
    "            .filter_by_folder(include=['train', 'test', 'unsup']) \n",
    "           #We may have other temp folders that contain text files so we only keep what's in train, test and unsup\n",
    "            .split_by_rand_pct(0.1)\n",
    "           #We randomly split and keep 10% (10,000 reviews) for validation\n",
    "            .label_for_lm()           \n",
    "           #We want to do a language model so we label accordingly\n",
    "            .databunch(bs=bs, bptt=bptt))"
   ]
  },
  {
   "cell_type": "code",
   "execution_count": 8,
   "metadata": {},
   "outputs": [],
   "source": [
    "data_lm.save('/workspace/data/sha_rnn/data_imdb_lm.pkl')"
   ]
  },
  {
   "cell_type": "code",
   "execution_count": 7,
   "metadata": {},
   "outputs": [],
   "source": [
    "data_lm = load_data(\"/workspace/data/sha_rnn/\", \"data_imdb_lm.pkl\")"
   ]
  },
  {
   "cell_type": "code",
   "execution_count": 8,
   "metadata": {},
   "outputs": [],
   "source": [
    "from sharnn.model import SHARNN"
   ]
  },
  {
   "cell_type": "code",
   "execution_count": 9,
   "metadata": {},
   "outputs": [],
   "source": [
    "class SHARNNWrapper(nn.Module):\n",
    "    \"\"\"\n",
    "    Making things work without tinkering with code of either project\n",
    "    \"\"\"\n",
    "    def __init__(self, sharnn_params):\n",
    "        super().__init__()\n",
    "        self.sharnn = SHARNN(**sharnn_params)\n",
    "        self.hidden = None\n",
    "        self.mems = None\n",
    "\n",
    "    def forward(self, input):\n",
    "        # the original SHA-RNN is seqlen-first, unlike fastai\n",
    "        input = input.t()\n",
    "        h, new_hidden, new_mems, _, _ = self.sharnn(input, hidden=self.hidden, \n",
    "                                              mems=self.mems, return_h=True)\n",
    "\n",
    "        self.hidden = to_detach(new_hidden, cpu=False)\n",
    "        self.mems = to_detach(new_mems, cpu=False)\n",
    "        \n",
    "        # back to batch-first\n",
    "        output = [h.permute(1, 0, 2)]\n",
    "        # I don't think something really uses raw_outputs in fastai. These outputs\n",
    "        # have already went through dropout:\n",
    "        # https://github.com/Smerity/sha-rnn/blob/218d748022dbcf32d50bbbb4d151a9b6de3f8bba/model.py#L320\n",
    "        return output, output"
   ]
  },
  {
   "cell_type": "code",
   "execution_count": 10,
   "metadata": {},
   "outputs": [],
   "source": [
    "# replicating most of the parameters from readme and defaults\n",
    "params = {\n",
    "    \"rnn_type\": \"LSTM\",\n",
    "    \"ntoken\": len(vocab.itos),\n",
    "    \"ninp\": 1024,\n",
    "    \"nhid\": 4096,\n",
    "    \"nlayers\": 4,\n",
    "    \"dropouth\": 0.1,\n",
    "    \"dropouti\": 0.1,\n",
    "    \"dropout\": 0.1,\n",
    "    \"tie_weights\": True\n",
    "}"
   ]
  },
  {
   "cell_type": "code",
   "execution_count": 11,
   "metadata": {},
   "outputs": [],
   "source": [
    "sharnn = SHARNNWrapper(params)"
   ]
  },
  {
   "cell_type": "code",
   "execution_count": 12,
   "metadata": {},
   "outputs": [],
   "source": [
    "decoder = LinearDecoder(n_out=len(vocab.itos), n_hid=1024, \n",
    "                        tie_encoder=None, output_p=0)"
   ]
  },
  {
   "cell_type": "code",
   "execution_count": 13,
   "metadata": {},
   "outputs": [],
   "source": [
    "model = SequentialRNN(sharnn, decoder)"
   ]
  },
  {
   "cell_type": "code",
   "execution_count": 14,
   "metadata": {},
   "outputs": [],
   "source": [
    "learn = LanguageLearner(data_lm, model)"
   ]
  },
  {
   "cell_type": "code",
   "execution_count": 15,
   "metadata": {},
   "outputs": [
    {
     "data": {
      "text/plain": [
       "LanguageLearner(data=TextLMDataBunch;\n",
       "\n",
       "Train: LabelList (89803 items)\n",
       "x: LMTextList\n",
       "xxbos xxmaj frownland is like one of those intensely embarrassing situations where you end up laughing out loud at exactly the wrong time ; and just at the moment you realize you should n't be laughing , you 've already reached the pinnacle of voice xxunk ; and as you look around you at the ghostly white faces with their gaping wide - open mouths and xxunk eyes , you feel a piercing ache beginning in the pit of your stomach and suddenly rushing up your throat and ... well , you get the point . \n",
       " \n",
       "  xxmaj but for all its unpleasantness and punches in the face , xxmaj frownland , really is a remarkable piece of work that , after viewing the inarticulate mess of a main character and all his pathetic troubles and mishaps , makes you want to scratch your own eyes out and at the same time , you feel xxunk sorry for him . \n",
       " \n",
       "  xxmaj it would have been a lot easier for me to simply walk out of xxmaj ronald xxmaj bronstein 's film , but for some insane reason , i felt an unwavering determination to stay the course and experience all the grainy irritation the film has to offer . xxmaj if someone sets you on fire , you typically want to put it out : xxmaj stop ! xxmaj drop ! xxmaj and xxmaj roll ! xxmaj but with this film , you want to watch the flame slowly engulf your entire body . xxmaj you endure the pain -- perhaps out of spite , or some unknown masochistic curiosity i ca n't even begin to attempt to explain . \n",
       " \n",
       "  xxmaj unfortunately , mainstream cinema will never let this film come to a theater near you . xxmaj but if you get a chance to catch it , prepare yourself : bring a doggie bag .,xxbos xxmaj atlantis : xxmaj the xxmaj lost xxmaj empire has some of the best , smoothest animation and cleverly written dialogue of any xxmaj disney movie i 've seen . xxmaj and i was convinced of that in the first 15 minutes . i especially love xxmaj don xxmaj novello 's voice work on xxmaj vincenzo xxmaj santorini and xxmaj phil xxmaj morris as xxmaj joshua xxmaj xxunk xxmaj sweet . xxmaj too bad the whole film seems to move at about double the pace that would be appropriate - at least in the first act . xxmaj one important aspect of any xxmaj disney movie is a satisfying antagonist - which xxmaj atlantis does n't provide . xxmaj he 's average at best . xxmaj halfway through the movie there 's a mediocre twist . xxmaj that 's all . xxmaj it 's a great movie nevertheless . xxmaj everyone should check it out .,xxbos xxmaj in xxmaj april of 1965 , xxup cbs broadcast the first of xxmaj barbra xxmaj streisand 's monumental television specials . xxmaj the show was not only a runaway ratings success , but garnered 5 xxmaj emmy awards as well . xxmaj this is one of the most memorable moments of 1960 's television and ( unfortunately ) the kind of television special they do n't produce anymore . xxmaj filled with wonderful songs and a spectacular performance by xxmaj barbra , this special is a must view for any xxmaj streisand fan and anyone interested in early television .,xxbos xxmaj this is a must see for independant movie fans , but it also holds up well against mainstream movies . i think we have the makings of the next xxmaj woody xxmaj allen or \n",
       " \n",
       "  xxmaj xxunk xxmaj tarrentino here . \n",
       " \n",
       "  xxmaj the budget is painfully low . xxmaj no special effects whatsoever , and they seemingly used ambient lighting ( shot in digital video . ) -and yet this movie grabs hold of you and never lets go . xxmaj the screenplay is somewhat bizarre , yet the actors and director pull it off with complete realism . xxmaj it has humor , it has intrigue , and it has pathos , and it all works together . \n",
       " \n",
       "  xxmaj no point in describing the details . xxmaj if you want to see an independant \n",
       " \n",
       "  masterpiece , a virtual lesson in how to make a low budget flick that really works , see this one . \n",
       " \n",
       "  -oh yeah , it 's also xxup really entertaining . \n",
       " \n",
       " ,xxbos xxmaj although others have commented that this video is just an edited version of the two shows : \" xxmaj fire in xxmaj space \" and \" xxmaj living xxmaj legend \" , if you watch the original shows you 'll find that dialogue from this video edition was edited out . i found this video version much better because scenes and lines were added to it . i would say if you want to see the show in its original version , see the video versions on xxup vhs . xxmaj they have more to offer the fan than the original episodes being offered on xxup dvd now . xxmaj another good video is xxmaj conquest for the xxmaj earth , which had more scenes from xxmaj galactica 1980 than did the actual broadcasts themselves . xxmaj overall , i rate this as a 10 because it gives you more to enjoy than what the networks wanted to show in the time slot they gave the producers .\n",
       "y: LMLabelList\n",
       ",,,,\n",
       "Path: /home/user/.fastai/data/imdb;\n",
       "\n",
       "Valid: LabelList (9978 items)\n",
       "x: LMTextList\n",
       "xxbos ... i am left with little choice but to employ it at least once during the course of my review of xxmaj respiro . xxmaj among other things , what defines pretension is in my opinion a lack of emotional sincerity on the author 's part . xxmaj respiro seems made with an all too contrived and self - aware intent to be artistic , symbolic , spiritual , provocative , metaphorical ... mythical , even . xxmaj but luckily for all true artists out there , a predisposed formula to achieve artistic beauty and depth does n't exist . xxmaj stunning natural locations ( yes , these remote parts of xxmaj southern xxmaj italy look exotic even to most other xxmaj italians ) , pretty actors and some amusing , gutsy , spontaneous performances by a handful of attractive children wo n't elevate a xxunk movie beyond a pretty succession of images . xxmaj yet this insincere and vain , and ultimately hollow movie aches to be art , succeeding only to a very limited extent , perhaps in some cases by accident . i 'll admit that the conceptually pompous ending does have a certain visual poetry to it . xxmaj however , it 's my belief that this was achieved in ways that had more to do with the beauty of the xxmaj xxunk sea and the strong symbolic power of bathing and water ( connecting it to so much that 's mythical , mystical , religious , archetypical , etc ) than with xxmaj crialese 's talent . \n",
       " \n",
       "  xxmaj valeria xxmaj golino is gratingly histrionic and affected in her performance as xxmaj grazia . xxmaj for a mentally unstable woman from a humble and provincial background , she sure has a fashionable wardrobe . xxmaj her flattering , xxunk floral dresses and attractive , sun - kissed beach hair could have graced the pages of any xxmaj vogue summer edition . xxmaj the fact she was a \" nutcase \" could in a way have been nothing but a fashionable addition to her trendy demeanour and look - that 's how skin - deep her \" condition \" seemed to me . xxmaj golino 's two - dimensional stereotype of the innocent , natural child - woman misunderstood and oppressed by her backward community was tiresome and irritating at worse , while leaving me unmoved and indifferent at best . i agree with the reviewer from xxmaj london who wrote that mental illness is very badly served by cinema - during the course of the entire movie we never really get a sense of xxmaj grazia 's illness and have no idea what is actually wrong with her ( other than her being a tiresome stereotype of a \" free spirit \" ) . xxmaj we do n't know why she 's given injections and is required to see a specialist in xxmaj milan . xxmaj this generic way of writing mental illness is one of the main tell - tale signs of the movie 's overall shallowness . \n",
       " \n",
       "  xxmaj another fairly insulting aspect of xxmaj respiro is the xxunk of its location . i struggled to figure out whether this movie was supposed to be set in the present day or the past , seeing as it aimed to make even an admittedly backward part of xxmaj italy ( by comparison ) seem a dozen times xxunk and more conveniently primitive than it actually is . xxmaj again , this smacks of shallowness and a complete lack of sincerity on xxmaj crialese 's part . xxmaj some non - xxmaj italian viewers will gleefully lap up the picturesque xxunk , the cliché of the possessive , macho xxmaj italian man as if it were common - place , so keen will they be to continue viewing my country as one culturally stranded sometime in the 1950s ( the question i 'd like to ask xxmaj david xxmaj ferguson , the reviewer from xxmaj dallas , xxmaj texas is as follows : is xxup your country 's mentality stuck in the 1950s ? xxmaj no ? xxup ok , then why should mine be ? ) . xxmaj unfortunately for whoever still wishes to view xxmaj italy in such an anachronistic way , that aspect of xxmaj respiro is actually ridiculous and phoney even in the eyes of xxup this xxmaj italian viewer . xxmaj the subtly incestuous tension between xxmaj grazia and her eldest son was as tiresome and predictable as xxmaj fabrizio xxmaj xxunk 's sexist - but - loving - husband routine . i especially loathed the scene in which xxmaj grazia joins her husband and male friend in some man - to - man banter over a bottle of beer , to her husband 's macho embarrassment and displeasure . xxmaj according to this movie , it is n't a woman 's place to take part in a man 's conversations . xxmaj ah , but our \" loveable \" \" free - spirit \" is too good for this place and does n't understand the oppressive , unwritten rules of xxmaj xxunk patriarchy ! xxmaj not only does this scene depict something so fake , it should be enough on its own to discredit the entire movie 's credibility . xxmaj it also completely gets the wrong end of the stick of the culture it strives to depict , clearly showing that it was written without a clear understanding of the location or its population . i would challenge anyone who knows contemporary xxmaj italy to say otherwise . \n",
       " \n",
       "  xxmaj for a truly accomplished contemporary xxmaj italian filmmaker , one who in my opinion deserves to be listed among the greats of xxmaj italy 's glorious cinematic past ( which alas , is n't the shadow of its former self ! ) , look no further than xxmaj gianni xxmaj amelio - especially xxmaj lamerica , xxmaj xxunk xxmaj xxunk and his latest , xxmaj la xxmaj stella xxmaj che xxmaj non xxmaj c'è . xxmaj unlike most contemporary xxmaj italian cinema , sadly derivative and stagnant , xxmaj amelio 's is a fresh and independently creative voice . xxmaj despite my scathing review of xxmaj respiro , i am now more than willing to believe that xxmaj crialese 's latest xxmaj nuovomondo , now showing in xxmaj italian cinemas , will be a worthwhile one . i therefore look forwards to enjoying it , though it wo n't be overly shocking to me if i do n't ( considering my feelings for xxmaj respiro ! ) .,xxbos xxmaj this film has some pretty gorey parts like a boob getting bit off and a other big bites . xxmaj castle xxmaj freak himself is a good monster . i would be scared to pieces if he was coming after me . xxmaj however , the movie had some dumb parts about it . \n",
       " \n",
       "  a husband goes drunk driving and kills his 3 year old son and blinds his teenage daughter . i suppose death is a greater damage than blindness , but you 'd never know that the parents actually feel bad about their daughter being blind . xxmaj all they care about is that \" xxup j.j. 's dead ! \" xxmaj while their teenage daughter walks around running into things and talking about how she 'll never be able to drive a car . xxmaj the parents are like - \" honey , stop walking around without a guide , you know better than that , \" and then they cry and do n't ever stop being depressed because xxup jj 's dead . xxmaj sounds like xxunk to me . \n",
       " \n",
       "  xxmaj the lines of dialogue are not very realistic or well done . xxmaj for example , when a giant crash is heard in the castle , everybody runs down into the basement to see what it was . xxmaj it was a huge mirror that crashed to the ground and shattered . xxmaj the husband runs to the broken mirror in horror and plainly says , \" xxmaj the mirror broke . \" i do n't know , i would say a little more than that if a giant mirror mysteriously crashed to the ground in my castle . \n",
       " \n",
       "  xxmaj the husband and wife have some major relationship problems and it 's funny to watch how dumb they are with each other . xxmaj no one ever believes the blind girl . xxmaj advice : xxmaj if a blind girl says she hears things , believe her and do n't tell her to shut up . i think this is the moral of the story . xxmaj listen to people when they tell you things or else you might end up killing yourself to prove your point . \n",
       " \n",
       "  xxmaj lastly , i thought the best character was the main police officer . xxmaj he was the best actor and character . xxmaj everyone else ( besides xxmaj castle xxmaj freak ) was pretty run of the mill . 3 / 10,xxbos xxmaj this movie started off really horrible and i almost gave up on it because of the stupidity but then there were tons of sex scenes and the whole movie redeemed itself in some way . xxmaj the thing with the talking plant was really stupid . xxmaj the plant looked like it came some xxmaj sesame xxmaj street or something . i pushed fast forward to get past the plant and get to the sex scenes but when i got there , there was this creepy guy , xxmaj henry , who stands there and grins . xxmaj that really ruined the whole scene when they cut to him playing in the bushes . i wondered what was going on with that gay guy at the flower shop . i would just suggest taking out the plant and xxmaj henry and his mother and just making a dirty movie . xxmaj we do n't really need talking plants do we ?,xxbos xxmaj ohhh the brutality , o xxrep 5 h the dying breed , o xxrep 4 h the sense of loss , o xxrep 4 h the prejudice ! xxmaj jeez , when are all you whiney xxunk going to stop analyzing xxmaj westerns for crying out loud ? xxmaj s**t happens . xxmaj if it offends your socially engineered sensibilities then go back to the comfort of your xxmaj meryl xxmaj steep collection . \n",
       " \n",
       "  xxmaj boring , tedious , and very tiresome waste of celluloid - particularly in light of xxmaj coburn / xxmaj hackman / xxmaj bergen 's presence . xxmaj nothing interesting or intriguing here , unless you are obsessed with 19th century desert xxunk . xxmaj may have been a little better without the constant diversion of the out - of - place mexican guy with the bad tooth . a monument to the stupid ultra - left creeping sensitivity of the 60 / 70 's . xxmaj virtually impossible to sit through the entire film . i think i 'd rather have my eyes stapled open for the entire xxmaj lucky xxmaj luke / xxmaj trinity series . 4 xxmaj horses / xxunk xxunk hell .,xxbos xxmaj one of the worst films ever . xxmaj not funny , poor xxup tv style cinematography , bad acting . xxmaj sad to see so many famous old actors barely able to walk , let alone act . xxmaj lead female xxmaj nancy xxmaj young ca n't act . xxmaj terrible direction . xxmaj sub - par with bad xxup tv movies . xxmaj occasional weak jokes fall flat . xxmaj even the basic premise of the movie makes no sense . xxmaj somehow they are supposed to stop a wedding from happening but there 's no logic behind their actions . xxmaj slow pacing made my wife stop watching but i suffered through it . xxmaj the old men are supposed to be acting like they are young and horny , but it comes off as pathetic instead of funny . xxmaj how did they even get the money to make this ?\n",
       "y: LMLabelList\n",
       ",,,,\n",
       "Path: /home/user/.fastai/data/imdb;\n",
       "\n",
       "Test: None, model=SequentialRNN(\n",
       "  (0): SHARNNWrapper(\n",
       "    (sharnn): SHARNN(\n",
       "      (drop): Dropout(p=0.1, inplace=False)\n",
       "      (idrop): Dropout(p=0.1, inplace=False)\n",
       "      (hdrop): Dropout(p=0.1, inplace=False)\n",
       "      (blocks): ModuleList(\n",
       "        (0): Block(\n",
       "          (ff): Boom(\n",
       "            (linear1): Linear(in_features=1024, out_features=4096, bias=True)\n",
       "            (dropout): Dropout(p=0.1, inplace=False)\n",
       "            (act): GELU()\n",
       "          )\n",
       "          (lnstart): FusedLayerNorm(torch.Size([1024]), eps=1e-12, elementwise_affine=True)\n",
       "          (lnmid): FusedLayerNorm(torch.Size([1024]), eps=1e-12, elementwise_affine=True)\n",
       "          (lnmem): FusedLayerNorm(torch.Size([1024]), eps=1e-12, elementwise_affine=True)\n",
       "          (lnout): FusedLayerNorm(torch.Size([1024]), eps=1e-12, elementwise_affine=True)\n",
       "          (lnff): FusedLayerNorm(torch.Size([1024]), eps=1e-12, elementwise_affine=True)\n",
       "          (lnxff): FusedLayerNorm(torch.Size([1024]), eps=1e-12, elementwise_affine=True)\n",
       "          (drop): Dropout(p=0.1, inplace=False)\n",
       "          (gelu): GELU()\n",
       "          (rnn): LSTM(1024, 1024)\n",
       "        )\n",
       "        (1): Block(\n",
       "          (ff): Boom(\n",
       "            (linear1): Linear(in_features=1024, out_features=4096, bias=True)\n",
       "            (dropout): Dropout(p=0.1, inplace=False)\n",
       "            (act): GELU()\n",
       "          )\n",
       "          (lnstart): FusedLayerNorm(torch.Size([1024]), eps=1e-12, elementwise_affine=True)\n",
       "          (lnmid): FusedLayerNorm(torch.Size([1024]), eps=1e-12, elementwise_affine=True)\n",
       "          (lnmem): FusedLayerNorm(torch.Size([1024]), eps=1e-12, elementwise_affine=True)\n",
       "          (lnout): FusedLayerNorm(torch.Size([1024]), eps=1e-12, elementwise_affine=True)\n",
       "          (lnff): FusedLayerNorm(torch.Size([1024]), eps=1e-12, elementwise_affine=True)\n",
       "          (lnxff): FusedLayerNorm(torch.Size([1024]), eps=1e-12, elementwise_affine=True)\n",
       "          (drop): Dropout(p=0.1, inplace=False)\n",
       "          (gelu): GELU()\n",
       "          (rnn): LSTM(1024, 1024)\n",
       "        )\n",
       "        (2): Block(\n",
       "          (attn): Attention(\n",
       "            (drop): Dropout(p=0.1, inplace=False)\n",
       "            (gelu): GELU()\n",
       "            (q): Linear(in_features=1024, out_features=1024, bias=True)\n",
       "            (qln): FusedLayerNorm(torch.Size([1024]), eps=1e-12, elementwise_affine=True)\n",
       "            (vq): Overparam(\n",
       "              (l1): Linear(in_features=1024, out_features=2048, bias=True)\n",
       "            )\n",
       "          )\n",
       "          (ff): Boom(\n",
       "            (linear1): Linear(in_features=1024, out_features=4096, bias=True)\n",
       "            (dropout): Dropout(p=0.1, inplace=False)\n",
       "            (act): GELU()\n",
       "          )\n",
       "          (lnstart): FusedLayerNorm(torch.Size([1024]), eps=1e-12, elementwise_affine=True)\n",
       "          (lnmid): FusedLayerNorm(torch.Size([1024]), eps=1e-12, elementwise_affine=True)\n",
       "          (lnmem): FusedLayerNorm(torch.Size([1024]), eps=1e-12, elementwise_affine=True)\n",
       "          (lnout): FusedLayerNorm(torch.Size([1024]), eps=1e-12, elementwise_affine=True)\n",
       "          (lnff): FusedLayerNorm(torch.Size([1024]), eps=1e-12, elementwise_affine=True)\n",
       "          (lnxff): FusedLayerNorm(torch.Size([1024]), eps=1e-12, elementwise_affine=True)\n",
       "          (drop): Dropout(p=0.1, inplace=False)\n",
       "          (gelu): GELU()\n",
       "          (rnn): LSTM(1024, 1024)\n",
       "        )\n",
       "        (3): Block(\n",
       "          (ff): Boom(\n",
       "            (linear1): Linear(in_features=1024, out_features=4096, bias=True)\n",
       "            (dropout): Dropout(p=0.1, inplace=False)\n",
       "            (act): GELU()\n",
       "          )\n",
       "          (lnstart): FusedLayerNorm(torch.Size([1024]), eps=1e-12, elementwise_affine=True)\n",
       "          (lnmid): FusedLayerNorm(torch.Size([1024]), eps=1e-12, elementwise_affine=True)\n",
       "          (lnmem): FusedLayerNorm(torch.Size([1024]), eps=1e-12, elementwise_affine=True)\n",
       "          (lnout): FusedLayerNorm(torch.Size([1024]), eps=1e-12, elementwise_affine=True)\n",
       "          (lnff): FusedLayerNorm(torch.Size([1024]), eps=1e-12, elementwise_affine=True)\n",
       "          (lnxff): FusedLayerNorm(torch.Size([1024]), eps=1e-12, elementwise_affine=True)\n",
       "          (drop): Dropout(p=0.1, inplace=False)\n",
       "          (gelu): GELU()\n",
       "          (rnn): LSTM(1024, 1024)\n",
       "        )\n",
       "      )\n",
       "      (encoder): Embedding(60000, 1024)\n",
       "      (decoder): Linear(in_features=1024, out_features=60000, bias=True)\n",
       "    )\n",
       "  )\n",
       "  (1): LinearDecoder(\n",
       "    (decoder): Linear(in_features=1024, out_features=60000, bias=True)\n",
       "    (output_dp): RNNDropout()\n",
       "  )\n",
       "), opt_func=functools.partial(<class 'torch.optim.adam.Adam'>, betas=(0.9, 0.99)), loss_func=FlattenedLoss of CrossEntropyLoss(), metrics=[<function accuracy at 0x7f1d0f0495f0>], true_wd=True, bn_wd=True, wd=0.01, train_bn=True, path=PosixPath('/workspace/data/sha_rnn'), model_dir='models', callback_fns=[functools.partial(<class 'fastai.basic_train.Recorder'>, add_time=True, silent=False)], callbacks=[RNNTrainer\n",
       "learn: ...\n",
       "alpha: 2.0\n",
       "beta: 1.0], layer_groups=[Sequential(\n",
       "  (0): Dropout(p=0.1, inplace=False)\n",
       "  (1): Dropout(p=0.1, inplace=False)\n",
       "  (2): Dropout(p=0.1, inplace=False)\n",
       "  (3): Linear(in_features=1024, out_features=4096, bias=True)\n",
       "  (4): Dropout(p=0.1, inplace=False)\n",
       "  (5): GELU()\n",
       "  (6): FusedLayerNorm(torch.Size([1024]), eps=1e-12, elementwise_affine=True)\n",
       "  (7): FusedLayerNorm(torch.Size([1024]), eps=1e-12, elementwise_affine=True)\n",
       "  (8): FusedLayerNorm(torch.Size([1024]), eps=1e-12, elementwise_affine=True)\n",
       "  (9): FusedLayerNorm(torch.Size([1024]), eps=1e-12, elementwise_affine=True)\n",
       "  (10): FusedLayerNorm(torch.Size([1024]), eps=1e-12, elementwise_affine=True)\n",
       "  (11): FusedLayerNorm(torch.Size([1024]), eps=1e-12, elementwise_affine=True)\n",
       "  (12): Dropout(p=0.1, inplace=False)\n",
       "  (13): GELU()\n",
       "  (14): LSTM(1024, 1024)\n",
       "  (15): Linear(in_features=1024, out_features=4096, bias=True)\n",
       "  (16): Dropout(p=0.1, inplace=False)\n",
       "  (17): GELU()\n",
       "  (18): FusedLayerNorm(torch.Size([1024]), eps=1e-12, elementwise_affine=True)\n",
       "  (19): FusedLayerNorm(torch.Size([1024]), eps=1e-12, elementwise_affine=True)\n",
       "  (20): FusedLayerNorm(torch.Size([1024]), eps=1e-12, elementwise_affine=True)\n",
       "  (21): FusedLayerNorm(torch.Size([1024]), eps=1e-12, elementwise_affine=True)\n",
       "  (22): FusedLayerNorm(torch.Size([1024]), eps=1e-12, elementwise_affine=True)\n",
       "  (23): FusedLayerNorm(torch.Size([1024]), eps=1e-12, elementwise_affine=True)\n",
       "  (24): Dropout(p=0.1, inplace=False)\n",
       "  (25): GELU()\n",
       "  (26): LSTM(1024, 1024)\n",
       "  (27): Dropout(p=0.1, inplace=False)\n",
       "  (28): GELU()\n",
       "  (29): Linear(in_features=1024, out_features=1024, bias=True)\n",
       "  (30): FusedLayerNorm(torch.Size([1024]), eps=1e-12, elementwise_affine=True)\n",
       "  (31): Linear(in_features=1024, out_features=2048, bias=True)\n",
       "  (32): ParameterModule()\n",
       "  (33): ParameterModule()\n",
       "  (34): ParameterModule()\n",
       "  (35): ParameterModule()\n",
       "  (36): ParameterModule()\n",
       "  (37): Linear(in_features=1024, out_features=4096, bias=True)\n",
       "  (38): Dropout(p=0.1, inplace=False)\n",
       "  (39): GELU()\n",
       "  (40): FusedLayerNorm(torch.Size([1024]), eps=1e-12, elementwise_affine=True)\n",
       "  (41): FusedLayerNorm(torch.Size([1024]), eps=1e-12, elementwise_affine=True)\n",
       "  (42): FusedLayerNorm(torch.Size([1024]), eps=1e-12, elementwise_affine=True)\n",
       "  (43): FusedLayerNorm(torch.Size([1024]), eps=1e-12, elementwise_affine=True)\n",
       "  (44): FusedLayerNorm(torch.Size([1024]), eps=1e-12, elementwise_affine=True)\n",
       "  (45): FusedLayerNorm(torch.Size([1024]), eps=1e-12, elementwise_affine=True)\n",
       "  (46): Dropout(p=0.1, inplace=False)\n",
       "  (47): GELU()\n",
       "  (48): LSTM(1024, 1024)\n",
       "  (49): Linear(in_features=1024, out_features=4096, bias=True)\n",
       "  (50): Dropout(p=0.1, inplace=False)\n",
       "  (51): GELU()\n",
       "  (52): FusedLayerNorm(torch.Size([1024]), eps=1e-12, elementwise_affine=True)\n",
       "  (53): FusedLayerNorm(torch.Size([1024]), eps=1e-12, elementwise_affine=True)\n",
       "  (54): FusedLayerNorm(torch.Size([1024]), eps=1e-12, elementwise_affine=True)\n",
       "  (55): FusedLayerNorm(torch.Size([1024]), eps=1e-12, elementwise_affine=True)\n",
       "  (56): FusedLayerNorm(torch.Size([1024]), eps=1e-12, elementwise_affine=True)\n",
       "  (57): FusedLayerNorm(torch.Size([1024]), eps=1e-12, elementwise_affine=True)\n",
       "  (58): Dropout(p=0.1, inplace=False)\n",
       "  (59): GELU()\n",
       "  (60): LSTM(1024, 1024)\n",
       "  (61): Embedding(60000, 1024)\n",
       "  (62): Linear(in_features=1024, out_features=60000, bias=True)\n",
       "  (63): Linear(in_features=1024, out_features=60000, bias=True)\n",
       "  (64): RNNDropout()\n",
       ")], add_time=True, silent=False)"
      ]
     },
     "execution_count": 15,
     "metadata": {},
     "output_type": "execute_result"
    }
   ],
   "source": [
    "learn.load(\"/workspace/data/sha_rnn/models/stage2_final\")"
   ]
  },
  {
   "cell_type": "markdown",
   "metadata": {},
   "source": [
    "Now we have to convert the old vocabulary into the new vocabulary as per the ULMFiT procedure. Doesn't work out of the box, so here are a few hacks."
   ]
  },
  {
   "cell_type": "code",
   "execution_count": 16,
   "metadata": {},
   "outputs": [],
   "source": [
    "old_stoi = {w: i for i, w in enumerate(vocab.itos)}"
   ]
  },
  {
   "cell_type": "code",
   "execution_count": 17,
   "metadata": {},
   "outputs": [],
   "source": [
    "wgts_to_convert = {\n",
    "    \"0.encoder.weight\": learn.model[0].sharnn.encoder.weight,\n",
    "    \"1.decoder.bias\": learn.model[1].decoder.bias\n",
    "}\n",
    "converted = convert_weights(wgts_to_convert, old_stoi, data_lm.train_ds.vocab.itos)"
   ]
  },
  {
   "cell_type": "code",
   "execution_count": 18,
   "metadata": {},
   "outputs": [
    {
     "data": {
      "text/plain": [
       "dict_keys(['0.encoder.weight', '1.decoder.bias', '1.decoder.weight'])"
      ]
     },
     "execution_count": 18,
     "metadata": {},
     "output_type": "execute_result"
    }
   ],
   "source": [
    "converted.keys()"
   ]
  },
  {
   "cell_type": "code",
   "execution_count": 19,
   "metadata": {},
   "outputs": [
    {
     "data": {
      "text/plain": [
       "<All keys matched successfully>"
      ]
     },
     "execution_count": 19,
     "metadata": {},
     "output_type": "execute_result"
    }
   ],
   "source": [
    "state_dict = learn.model.state_dict()\n",
    "state_dict[\"0.sharnn.encoder.weight\"] = converted[\"0.encoder.weight\"]\n",
    "state_dict[\"1.decoder.weight\"] = converted[\"1.decoder.weight\"]\n",
    "state_dict[\"1.decoder.bias\"] = converted[\"1.decoder.bias\"]\n",
    "learn.model.load_state_dict(state_dict)"
   ]
  },
  {
   "cell_type": "markdown",
   "metadata": {},
   "source": [
    "As blocks are not sequential, fastai built-in param_groups does not work"
   ]
  },
  {
   "cell_type": "code",
   "execution_count": 20,
   "metadata": {},
   "outputs": [],
   "source": [
    "param_blocks = {\n",
    "    0: [\n",
    "    \"0.sharnn.blocks.0.ff.linear1.weight\",\n",
    "    \"0.sharnn.blocks.0.ff.linear1.bias\",\n",
    "    \"0.sharnn.blocks.0.lnstart.weight\",\n",
    "    \"0.sharnn.blocks.0.lnstart.bias\",\n",
    "    \"0.sharnn.blocks.0.lnmid.weight\",\n",
    "    \"0.sharnn.blocks.0.lnmid.bias\",\n",
    "    \"0.sharnn.blocks.0.lnmem.weight\",\n",
    "    \"0.sharnn.blocks.0.lnmem.bias\",\n",
    "    \"0.sharnn.blocks.0.lnout.weight\",\n",
    "    \"0.sharnn.blocks.0.lnout.bias\",\n",
    "    \"0.sharnn.blocks.0.lnff.weight\",\n",
    "    \"0.sharnn.blocks.0.lnff.bias\",\n",
    "    \"0.sharnn.blocks.0.lnxff.weight\",\n",
    "    \"0.sharnn.blocks.0.lnxff.bias\",\n",
    "    \"0.sharnn.blocks.0.rnn.weight_ih_l0\",\n",
    "    \"0.sharnn.blocks.0.rnn.weight_hh_l0\",\n",
    "    \"0.sharnn.blocks.0.rnn.bias_ih_l0\",\n",
    "    \"0.sharnn.blocks.0.rnn.bias_hh_l0\",\n",
    "    ],\n",
    "    1: [                    \n",
    "    \"0.sharnn.blocks.1.ff.linear1.weight\",\n",
    "    \"0.sharnn.blocks.1.ff.linear1.bias\",\n",
    "    \"0.sharnn.blocks.1.lnstart.weight\",\n",
    "    \"0.sharnn.blocks.1.lnstart.bias\",\n",
    "    \"0.sharnn.blocks.1.lnmid.weight\",\n",
    "    \"0.sharnn.blocks.1.lnmid.bias\",\n",
    "    \"0.sharnn.blocks.1.lnmem.weight\",\n",
    "    \"0.sharnn.blocks.1.lnmem.bias\",\n",
    "    \"0.sharnn.blocks.1.lnout.weight\",\n",
    "    \"0.sharnn.blocks.1.lnout.bias\",\n",
    "    \"0.sharnn.blocks.1.lnff.weight\",\n",
    "    \"0.sharnn.blocks.1.lnff.bias\",\n",
    "    \"0.sharnn.blocks.1.lnxff.weight\",\n",
    "    \"0.sharnn.blocks.1.lnxff.bias\",\n",
    "    \"0.sharnn.blocks.1.rnn.weight_ih_l0\",\n",
    "    \"0.sharnn.blocks.1.rnn.weight_hh_l0\",\n",
    "    \"0.sharnn.blocks.1.rnn.bias_ih_l0\",\n",
    "    \"0.sharnn.blocks.1.rnn.bias_hh_l0\",\n",
    "    ],\n",
    "    2: [\n",
    "    \"0.sharnn.blocks.2.attn.qs\",\n",
    "    \"0.sharnn.blocks.2.attn.ks\",\n",
    "    \"0.sharnn.blocks.2.attn.vs\",\n",
    "    \"0.sharnn.blocks.2.attn.qkvs\",\n",
    "    \"0.sharnn.blocks.2.attn.r_gate\",\n",
    "    \"0.sharnn.blocks.2.attn.q.weight\",\n",
    "    \"0.sharnn.blocks.2.attn.q.bias\",\n",
    "    \"0.sharnn.blocks.2.attn.qln.weight\",\n",
    "    \"0.sharnn.blocks.2.attn.qln.bias\",\n",
    "    \"0.sharnn.blocks.2.attn.vq.l1.weight\",\n",
    "    \"0.sharnn.blocks.2.attn.vq.l1.bias\",\n",
    "    \"0.sharnn.blocks.2.ff.linear1.weight\",\n",
    "    \"0.sharnn.blocks.2.ff.linear1.bias\",\n",
    "    \"0.sharnn.blocks.2.lnstart.weight\",\n",
    "    \"0.sharnn.blocks.2.lnstart.bias\",\n",
    "    \"0.sharnn.blocks.2.lnmid.weight\",\n",
    "    \"0.sharnn.blocks.2.lnmid.bias\",\n",
    "    \"0.sharnn.blocks.2.lnmem.weight\",\n",
    "    \"0.sharnn.blocks.2.lnmem.bias\",\n",
    "    \"0.sharnn.blocks.2.lnout.weight\",\n",
    "    \"0.sharnn.blocks.2.lnout.bias\",\n",
    "    \"0.sharnn.blocks.2.lnff.weight\",\n",
    "    \"0.sharnn.blocks.2.lnff.bias\",\n",
    "    \"0.sharnn.blocks.2.lnxff.weight\",\n",
    "    \"0.sharnn.blocks.2.lnxff.bias\",\n",
    "    \"0.sharnn.blocks.2.rnn.weight_ih_l0\",\n",
    "    \"0.sharnn.blocks.2.rnn.weight_hh_l0\",\n",
    "    \"0.sharnn.blocks.2.rnn.bias_ih_l0\",\n",
    "    \"0.sharnn.blocks.2.rnn.bias_hh_l0\",\n",
    "    ],\n",
    "    3: [\n",
    "    \"0.sharnn.blocks.3.ff.linear1.weight\",\n",
    "    \"0.sharnn.blocks.3.ff.linear1.bias\",\n",
    "    \"0.sharnn.blocks.3.lnstart.weight\",\n",
    "    \"0.sharnn.blocks.3.lnstart.bias\",\n",
    "    \"0.sharnn.blocks.3.lnmid.weight\",\n",
    "    \"0.sharnn.blocks.3.lnmid.bias\",\n",
    "    \"0.sharnn.blocks.3.lnmem.weight\",\n",
    "    \"0.sharnn.blocks.3.lnmem.bias\",\n",
    "    \"0.sharnn.blocks.3.lnout.weight\",\n",
    "    \"0.sharnn.blocks.3.lnout.bias\",\n",
    "    \"0.sharnn.blocks.3.lnff.weight\",\n",
    "    \"0.sharnn.blocks.3.lnff.bias\",\n",
    "    \"0.sharnn.blocks.3.lnxff.weight\",\n",
    "    \"0.sharnn.blocks.3.lnxff.bias\",\n",
    "    \"0.sharnn.blocks.3.rnn.weight_ih_l0\",\n",
    "    \"0.sharnn.blocks.3.rnn.weight_hh_l0\",\n",
    "    \"0.sharnn.blocks.3.rnn.bias_ih_l0\",\n",
    "    \"0.sharnn.blocks.3.rnn.bias_hh_l0\",\n",
    "    \"0.sharnn.encoder.weight\",\n",
    "    \"0.sharnn.decoder.bias\",\n",
    "    ],\n",
    "    4: [\n",
    "    \"1.decoder.weight\",\n",
    "    \"1.decoder.bias\",\n",
    "    ]\n",
    "}\n"
   ]
  },
  {
   "cell_type": "markdown",
   "metadata": {},
   "source": [
    "Freeze the encoder, list trainable parameters:"
   ]
  },
  {
   "cell_type": "code",
   "execution_count": 117,
   "metadata": {},
   "outputs": [
    {
     "name": "stdout",
     "output_type": "stream",
     "text": [
      "1.decoder.weight\n",
      "1.decoder.bias\n"
     ]
    }
   ],
   "source": [
    "for name, p in learn.model.named_parameters():\n",
    "    if name in param_blocks[4]:\n",
    "        print(name)\n",
    "        p.requires_grad = True\n",
    "    else:\n",
    "        p.requires_grad = False"
   ]
  },
  {
   "cell_type": "markdown",
   "metadata": {},
   "source": [
    "Optimizer also should only optimize the parameters that have gradients attached."
   ]
  },
  {
   "cell_type": "code",
   "execution_count": 118,
   "metadata": {},
   "outputs": [],
   "source": [
    "learn.opt.opt_func = partial(torch.optim.Adam, \n",
    "                             parameters=filter(lambda p: p.requires_grad, learn.model.parameters()))"
   ]
  },
  {
   "cell_type": "code",
   "execution_count": 102,
   "metadata": {},
   "outputs": [
    {
     "data": {
      "text/html": [
       "\n",
       "    <div>\n",
       "        <style>\n",
       "            /* Turns off some styling */\n",
       "            progress {\n",
       "                /* gets rid of default border in Firefox and Opera. */\n",
       "                border: none;\n",
       "                /* Needs to be in here for Safari polyfill so background images work as expected. */\n",
       "                background-size: auto;\n",
       "            }\n",
       "            .progress-bar-interrupted, .progress-bar-interrupted::-webkit-progress-bar {\n",
       "                background: #F44336;\n",
       "            }\n",
       "        </style>\n",
       "      <progress value='0' class='' max='1', style='width:300px; height:20px; vertical-align: middle;'></progress>\n",
       "      0.00% [0/1 00:00<00:00]\n",
       "    </div>\n",
       "    \n",
       "<table border=\"1\" class=\"dataframe\">\n",
       "  <thead>\n",
       "    <tr style=\"text-align: left;\">\n",
       "      <th>epoch</th>\n",
       "      <th>train_loss</th>\n",
       "      <th>valid_loss</th>\n",
       "      <th>accuracy</th>\n",
       "      <th>time</th>\n",
       "    </tr>\n",
       "  </thead>\n",
       "  <tbody>\n",
       "  </tbody>\n",
       "</table><p>\n",
       "\n",
       "    <div>\n",
       "        <style>\n",
       "            /* Turns off some styling */\n",
       "            progress {\n",
       "                /* gets rid of default border in Firefox and Opera. */\n",
       "                border: none;\n",
       "                /* Needs to be in here for Safari polyfill so background images work as expected. */\n",
       "                background-size: auto;\n",
       "            }\n",
       "            .progress-bar-interrupted, .progress-bar-interrupted::-webkit-progress-bar {\n",
       "                background: #F44336;\n",
       "            }\n",
       "        </style>\n",
       "      <progress value='94' class='' max='3749', style='width:300px; height:20px; vertical-align: middle;'></progress>\n",
       "      2.51% [94/3749 00:56<36:52 16.5893]\n",
       "    </div>\n",
       "    "
      ],
      "text/plain": [
       "<IPython.core.display.HTML object>"
      ]
     },
     "metadata": {},
     "output_type": "display_data"
    },
    {
     "name": "stdout",
     "output_type": "stream",
     "text": [
      "LR Finder is complete, type {learner_name}.recorder.plot() to see the graph.\n"
     ]
    }
   ],
   "source": [
    "learn.lr_find()"
   ]
  },
  {
   "cell_type": "code",
   "execution_count": 103,
   "metadata": {},
   "outputs": [
    {
     "data": {
      "image/png": "[encoded data removed]",
      "text/plain": [
       "<Figure size 432x288 with 1 Axes>"
      ]
     },
     "metadata": {
      "needs_background": "light"
     },
     "output_type": "display_data"
    }
   ],
   "source": [
    "learn.recorder.plot()"
   ]
  },
  {
   "cell_type": "markdown",
   "metadata": {},
   "source": [
    "Importantly, one-cycle schedule really helped with training. On the other hand, the LR finder did not really help with the LR: 2e-2 is too high, the LM starts to diverge."
   ]
  },
  {
   "cell_type": "code",
   "execution_count": 119,
   "metadata": {},
   "outputs": [
    {
     "data": {
      "text/html": [
       "<table border=\"1\" class=\"dataframe\">\n",
       "  <thead>\n",
       "    <tr style=\"text-align: left;\">\n",
       "      <th>epoch</th>\n",
       "      <th>train_loss</th>\n",
       "      <th>valid_loss</th>\n",
       "      <th>accuracy</th>\n",
       "      <th>time</th>\n",
       "    </tr>\n",
       "  </thead>\n",
       "  <tbody>\n",
       "    <tr>\n",
       "      <td>0</td>\n",
       "      <td>4.375812</td>\n",
       "      <td>4.195847</td>\n",
       "      <td>0.280373</td>\n",
       "      <td>41:19</td>\n",
       "    </tr>\n",
       "  </tbody>\n",
       "</table>"
      ],
      "text/plain": [
       "<IPython.core.display.HTML object>"
      ]
     },
     "metadata": {},
     "output_type": "display_data"
    }
   ],
   "source": [
    "learn.fit_one_cycle(1, 3e-4, moms=(0.8, 0.7), wd=0.1)"
   ]
  },
  {
   "cell_type": "code",
   "execution_count": 120,
   "metadata": {},
   "outputs": [],
   "source": [
    "learn.save(\"/workspace/data/sha_rnn/models/ft_stage1\")"
   ]
  },
  {
   "cell_type": "code",
   "execution_count": 15,
   "metadata": {},
   "outputs": [
    {
     "data": {
      "text/plain": [
       "LanguageLearner(data=TextLMDataBunch;\n",
       "\n",
       "Train: LabelList (89803 items)\n",
       "x: LMTextList\n",
       "xxbos xxmaj frownland is like one of those intensely embarrassing situations where you end up laughing out loud at exactly the wrong time ; and just at the moment you realize you should n't be laughing , you 've already reached the pinnacle of voice xxunk ; and as you look around you at the ghostly white faces with their gaping wide - open mouths and xxunk eyes , you feel a piercing ache beginning in the pit of your stomach and suddenly rushing up your throat and ... well , you get the point . \n",
       " \n",
       "  xxmaj but for all its unpleasantness and punches in the face , xxmaj frownland , really is a remarkable piece of work that , after viewing the inarticulate mess of a main character and all his pathetic troubles and mishaps , makes you want to scratch your own eyes out and at the same time , you feel xxunk sorry for him . \n",
       " \n",
       "  xxmaj it would have been a lot easier for me to simply walk out of xxmaj ronald xxmaj bronstein 's film , but for some insane reason , i felt an unwavering determination to stay the course and experience all the grainy irritation the film has to offer . xxmaj if someone sets you on fire , you typically want to put it out : xxmaj stop ! xxmaj drop ! xxmaj and xxmaj roll ! xxmaj but with this film , you want to watch the flame slowly engulf your entire body . xxmaj you endure the pain -- perhaps out of spite , or some unknown masochistic curiosity i ca n't even begin to attempt to explain . \n",
       " \n",
       "  xxmaj unfortunately , mainstream cinema will never let this film come to a theater near you . xxmaj but if you get a chance to catch it , prepare yourself : bring a doggie bag .,xxbos xxmaj atlantis : xxmaj the xxmaj lost xxmaj empire has some of the best , smoothest animation and cleverly written dialogue of any xxmaj disney movie i 've seen . xxmaj and i was convinced of that in the first 15 minutes . i especially love xxmaj don xxmaj novello 's voice work on xxmaj vincenzo xxmaj santorini and xxmaj phil xxmaj morris as xxmaj joshua xxmaj xxunk xxmaj sweet . xxmaj too bad the whole film seems to move at about double the pace that would be appropriate - at least in the first act . xxmaj one important aspect of any xxmaj disney movie is a satisfying antagonist - which xxmaj atlantis does n't provide . xxmaj he 's average at best . xxmaj halfway through the movie there 's a mediocre twist . xxmaj that 's all . xxmaj it 's a great movie nevertheless . xxmaj everyone should check it out .,xxbos xxmaj in xxmaj april of 1965 , xxup cbs broadcast the first of xxmaj barbra xxmaj streisand 's monumental television specials . xxmaj the show was not only a runaway ratings success , but garnered 5 xxmaj emmy awards as well . xxmaj this is one of the most memorable moments of 1960 's television and ( unfortunately ) the kind of television special they do n't produce anymore . xxmaj filled with wonderful songs and a spectacular performance by xxmaj barbra , this special is a must view for any xxmaj streisand fan and anyone interested in early television .,xxbos xxmaj this is a must see for independant movie fans , but it also holds up well against mainstream movies . i think we have the makings of the next xxmaj woody xxmaj allen or \n",
       " \n",
       "  xxmaj xxunk xxmaj tarrentino here . \n",
       " \n",
       "  xxmaj the budget is painfully low . xxmaj no special effects whatsoever , and they seemingly used ambient lighting ( shot in digital video . ) -and yet this movie grabs hold of you and never lets go . xxmaj the screenplay is somewhat bizarre , yet the actors and director pull it off with complete realism . xxmaj it has humor , it has intrigue , and it has pathos , and it all works together . \n",
       " \n",
       "  xxmaj no point in describing the details . xxmaj if you want to see an independant \n",
       " \n",
       "  masterpiece , a virtual lesson in how to make a low budget flick that really works , see this one . \n",
       " \n",
       "  -oh yeah , it 's also xxup really entertaining . \n",
       " \n",
       " ,xxbos xxmaj although others have commented that this video is just an edited version of the two shows : \" xxmaj fire in xxmaj space \" and \" xxmaj living xxmaj legend \" , if you watch the original shows you 'll find that dialogue from this video edition was edited out . i found this video version much better because scenes and lines were added to it . i would say if you want to see the show in its original version , see the video versions on xxup vhs . xxmaj they have more to offer the fan than the original episodes being offered on xxup dvd now . xxmaj another good video is xxmaj conquest for the xxmaj earth , which had more scenes from xxmaj galactica 1980 than did the actual broadcasts themselves . xxmaj overall , i rate this as a 10 because it gives you more to enjoy than what the networks wanted to show in the time slot they gave the producers .\n",
       "y: LMLabelList\n",
       ",,,,\n",
       "Path: /home/user/.fastai/data/imdb;\n",
       "\n",
       "Valid: LabelList (9978 items)\n",
       "x: LMTextList\n",
       "xxbos ... i am left with little choice but to employ it at least once during the course of my review of xxmaj respiro . xxmaj among other things , what defines pretension is in my opinion a lack of emotional sincerity on the author 's part . xxmaj respiro seems made with an all too contrived and self - aware intent to be artistic , symbolic , spiritual , provocative , metaphorical ... mythical , even . xxmaj but luckily for all true artists out there , a predisposed formula to achieve artistic beauty and depth does n't exist . xxmaj stunning natural locations ( yes , these remote parts of xxmaj southern xxmaj italy look exotic even to most other xxmaj italians ) , pretty actors and some amusing , gutsy , spontaneous performances by a handful of attractive children wo n't elevate a xxunk movie beyond a pretty succession of images . xxmaj yet this insincere and vain , and ultimately hollow movie aches to be art , succeeding only to a very limited extent , perhaps in some cases by accident . i 'll admit that the conceptually pompous ending does have a certain visual poetry to it . xxmaj however , it 's my belief that this was achieved in ways that had more to do with the beauty of the xxmaj xxunk sea and the strong symbolic power of bathing and water ( connecting it to so much that 's mythical , mystical , religious , archetypical , etc ) than with xxmaj crialese 's talent . \n",
       " \n",
       "  xxmaj valeria xxmaj golino is gratingly histrionic and affected in her performance as xxmaj grazia . xxmaj for a mentally unstable woman from a humble and provincial background , she sure has a fashionable wardrobe . xxmaj her flattering , xxunk floral dresses and attractive , sun - kissed beach hair could have graced the pages of any xxmaj vogue summer edition . xxmaj the fact she was a \" nutcase \" could in a way have been nothing but a fashionable addition to her trendy demeanour and look - that 's how skin - deep her \" condition \" seemed to me . xxmaj golino 's two - dimensional stereotype of the innocent , natural child - woman misunderstood and oppressed by her backward community was tiresome and irritating at worse , while leaving me unmoved and indifferent at best . i agree with the reviewer from xxmaj london who wrote that mental illness is very badly served by cinema - during the course of the entire movie we never really get a sense of xxmaj grazia 's illness and have no idea what is actually wrong with her ( other than her being a tiresome stereotype of a \" free spirit \" ) . xxmaj we do n't know why she 's given injections and is required to see a specialist in xxmaj milan . xxmaj this generic way of writing mental illness is one of the main tell - tale signs of the movie 's overall shallowness . \n",
       " \n",
       "  xxmaj another fairly insulting aspect of xxmaj respiro is the xxunk of its location . i struggled to figure out whether this movie was supposed to be set in the present day or the past , seeing as it aimed to make even an admittedly backward part of xxmaj italy ( by comparison ) seem a dozen times xxunk and more conveniently primitive than it actually is . xxmaj again , this smacks of shallowness and a complete lack of sincerity on xxmaj crialese 's part . xxmaj some non - xxmaj italian viewers will gleefully lap up the picturesque xxunk , the cliché of the possessive , macho xxmaj italian man as if it were common - place , so keen will they be to continue viewing my country as one culturally stranded sometime in the 1950s ( the question i 'd like to ask xxmaj david xxmaj ferguson , the reviewer from xxmaj dallas , xxmaj texas is as follows : is xxup your country 's mentality stuck in the 1950s ? xxmaj no ? xxup ok , then why should mine be ? ) . xxmaj unfortunately for whoever still wishes to view xxmaj italy in such an anachronistic way , that aspect of xxmaj respiro is actually ridiculous and phoney even in the eyes of xxup this xxmaj italian viewer . xxmaj the subtly incestuous tension between xxmaj grazia and her eldest son was as tiresome and predictable as xxmaj fabrizio xxmaj xxunk 's sexist - but - loving - husband routine . i especially loathed the scene in which xxmaj grazia joins her husband and male friend in some man - to - man banter over a bottle of beer , to her husband 's macho embarrassment and displeasure . xxmaj according to this movie , it is n't a woman 's place to take part in a man 's conversations . xxmaj ah , but our \" loveable \" \" free - spirit \" is too good for this place and does n't understand the oppressive , unwritten rules of xxmaj xxunk patriarchy ! xxmaj not only does this scene depict something so fake , it should be enough on its own to discredit the entire movie 's credibility . xxmaj it also completely gets the wrong end of the stick of the culture it strives to depict , clearly showing that it was written without a clear understanding of the location or its population . i would challenge anyone who knows contemporary xxmaj italy to say otherwise . \n",
       " \n",
       "  xxmaj for a truly accomplished contemporary xxmaj italian filmmaker , one who in my opinion deserves to be listed among the greats of xxmaj italy 's glorious cinematic past ( which alas , is n't the shadow of its former self ! ) , look no further than xxmaj gianni xxmaj amelio - especially xxmaj lamerica , xxmaj xxunk xxmaj xxunk and his latest , xxmaj la xxmaj stella xxmaj che xxmaj non xxmaj c'è . xxmaj unlike most contemporary xxmaj italian cinema , sadly derivative and stagnant , xxmaj amelio 's is a fresh and independently creative voice . xxmaj despite my scathing review of xxmaj respiro , i am now more than willing to believe that xxmaj crialese 's latest xxmaj nuovomondo , now showing in xxmaj italian cinemas , will be a worthwhile one . i therefore look forwards to enjoying it , though it wo n't be overly shocking to me if i do n't ( considering my feelings for xxmaj respiro ! ) .,xxbos xxmaj this film has some pretty gorey parts like a boob getting bit off and a other big bites . xxmaj castle xxmaj freak himself is a good monster . i would be scared to pieces if he was coming after me . xxmaj however , the movie had some dumb parts about it . \n",
       " \n",
       "  a husband goes drunk driving and kills his 3 year old son and blinds his teenage daughter . i suppose death is a greater damage than blindness , but you 'd never know that the parents actually feel bad about their daughter being blind . xxmaj all they care about is that \" xxup j.j. 's dead ! \" xxmaj while their teenage daughter walks around running into things and talking about how she 'll never be able to drive a car . xxmaj the parents are like - \" honey , stop walking around without a guide , you know better than that , \" and then they cry and do n't ever stop being depressed because xxup jj 's dead . xxmaj sounds like xxunk to me . \n",
       " \n",
       "  xxmaj the lines of dialogue are not very realistic or well done . xxmaj for example , when a giant crash is heard in the castle , everybody runs down into the basement to see what it was . xxmaj it was a huge mirror that crashed to the ground and shattered . xxmaj the husband runs to the broken mirror in horror and plainly says , \" xxmaj the mirror broke . \" i do n't know , i would say a little more than that if a giant mirror mysteriously crashed to the ground in my castle . \n",
       " \n",
       "  xxmaj the husband and wife have some major relationship problems and it 's funny to watch how dumb they are with each other . xxmaj no one ever believes the blind girl . xxmaj advice : xxmaj if a blind girl says she hears things , believe her and do n't tell her to shut up . i think this is the moral of the story . xxmaj listen to people when they tell you things or else you might end up killing yourself to prove your point . \n",
       " \n",
       "  xxmaj lastly , i thought the best character was the main police officer . xxmaj he was the best actor and character . xxmaj everyone else ( besides xxmaj castle xxmaj freak ) was pretty run of the mill . 3 / 10,xxbos xxmaj this movie started off really horrible and i almost gave up on it because of the stupidity but then there were tons of sex scenes and the whole movie redeemed itself in some way . xxmaj the thing with the talking plant was really stupid . xxmaj the plant looked like it came some xxmaj sesame xxmaj street or something . i pushed fast forward to get past the plant and get to the sex scenes but when i got there , there was this creepy guy , xxmaj henry , who stands there and grins . xxmaj that really ruined the whole scene when they cut to him playing in the bushes . i wondered what was going on with that gay guy at the flower shop . i would just suggest taking out the plant and xxmaj henry and his mother and just making a dirty movie . xxmaj we do n't really need talking plants do we ?,xxbos xxmaj ohhh the brutality , o xxrep 5 h the dying breed , o xxrep 4 h the sense of loss , o xxrep 4 h the prejudice ! xxmaj jeez , when are all you whiney xxunk going to stop analyzing xxmaj westerns for crying out loud ? xxmaj s**t happens . xxmaj if it offends your socially engineered sensibilities then go back to the comfort of your xxmaj meryl xxmaj steep collection . \n",
       " \n",
       "  xxmaj boring , tedious , and very tiresome waste of celluloid - particularly in light of xxmaj coburn / xxmaj hackman / xxmaj bergen 's presence . xxmaj nothing interesting or intriguing here , unless you are obsessed with 19th century desert xxunk . xxmaj may have been a little better without the constant diversion of the out - of - place mexican guy with the bad tooth . a monument to the stupid ultra - left creeping sensitivity of the 60 / 70 's . xxmaj virtually impossible to sit through the entire film . i think i 'd rather have my eyes stapled open for the entire xxmaj lucky xxmaj luke / xxmaj trinity series . 4 xxmaj horses / xxunk xxunk hell .,xxbos xxmaj one of the worst films ever . xxmaj not funny , poor xxup tv style cinematography , bad acting . xxmaj sad to see so many famous old actors barely able to walk , let alone act . xxmaj lead female xxmaj nancy xxmaj young ca n't act . xxmaj terrible direction . xxmaj sub - par with bad xxup tv movies . xxmaj occasional weak jokes fall flat . xxmaj even the basic premise of the movie makes no sense . xxmaj somehow they are supposed to stop a wedding from happening but there 's no logic behind their actions . xxmaj slow pacing made my wife stop watching but i suffered through it . xxmaj the old men are supposed to be acting like they are young and horny , but it comes off as pathetic instead of funny . xxmaj how did they even get the money to make this ?\n",
       "y: LMLabelList\n",
       ",,,,\n",
       "Path: /home/user/.fastai/data/imdb;\n",
       "\n",
       "Test: None, model=SequentialRNN(\n",
       "  (0): SHARNNWrapper(\n",
       "    (sharnn): SHARNN(\n",
       "      (drop): Dropout(p=0.1, inplace=False)\n",
       "      (idrop): Dropout(p=0.1, inplace=False)\n",
       "      (hdrop): Dropout(p=0.1, inplace=False)\n",
       "      (blocks): ModuleList(\n",
       "        (0): Block(\n",
       "          (ff): Boom(\n",
       "            (linear1): Linear(in_features=1024, out_features=4096, bias=True)\n",
       "            (dropout): Dropout(p=0.1, inplace=False)\n",
       "            (act): GELU()\n",
       "          )\n",
       "          (lnstart): FusedLayerNorm(torch.Size([1024]), eps=1e-12, elementwise_affine=True)\n",
       "          (lnmid): FusedLayerNorm(torch.Size([1024]), eps=1e-12, elementwise_affine=True)\n",
       "          (lnmem): FusedLayerNorm(torch.Size([1024]), eps=1e-12, elementwise_affine=True)\n",
       "          (lnout): FusedLayerNorm(torch.Size([1024]), eps=1e-12, elementwise_affine=True)\n",
       "          (lnff): FusedLayerNorm(torch.Size([1024]), eps=1e-12, elementwise_affine=True)\n",
       "          (lnxff): FusedLayerNorm(torch.Size([1024]), eps=1e-12, elementwise_affine=True)\n",
       "          (drop): Dropout(p=0.1, inplace=False)\n",
       "          (gelu): GELU()\n",
       "          (rnn): LSTM(1024, 1024)\n",
       "        )\n",
       "        (1): Block(\n",
       "          (ff): Boom(\n",
       "            (linear1): Linear(in_features=1024, out_features=4096, bias=True)\n",
       "            (dropout): Dropout(p=0.1, inplace=False)\n",
       "            (act): GELU()\n",
       "          )\n",
       "          (lnstart): FusedLayerNorm(torch.Size([1024]), eps=1e-12, elementwise_affine=True)\n",
       "          (lnmid): FusedLayerNorm(torch.Size([1024]), eps=1e-12, elementwise_affine=True)\n",
       "          (lnmem): FusedLayerNorm(torch.Size([1024]), eps=1e-12, elementwise_affine=True)\n",
       "          (lnout): FusedLayerNorm(torch.Size([1024]), eps=1e-12, elementwise_affine=True)\n",
       "          (lnff): FusedLayerNorm(torch.Size([1024]), eps=1e-12, elementwise_affine=True)\n",
       "          (lnxff): FusedLayerNorm(torch.Size([1024]), eps=1e-12, elementwise_affine=True)\n",
       "          (drop): Dropout(p=0.1, inplace=False)\n",
       "          (gelu): GELU()\n",
       "          (rnn): LSTM(1024, 1024)\n",
       "        )\n",
       "        (2): Block(\n",
       "          (attn): Attention(\n",
       "            (drop): Dropout(p=0.1, inplace=False)\n",
       "            (gelu): GELU()\n",
       "            (q): Linear(in_features=1024, out_features=1024, bias=True)\n",
       "            (qln): FusedLayerNorm(torch.Size([1024]), eps=1e-12, elementwise_affine=True)\n",
       "            (vq): Overparam(\n",
       "              (l1): Linear(in_features=1024, out_features=2048, bias=True)\n",
       "            )\n",
       "          )\n",
       "          (ff): Boom(\n",
       "            (linear1): Linear(in_features=1024, out_features=4096, bias=True)\n",
       "            (dropout): Dropout(p=0.1, inplace=False)\n",
       "            (act): GELU()\n",
       "          )\n",
       "          (lnstart): FusedLayerNorm(torch.Size([1024]), eps=1e-12, elementwise_affine=True)\n",
       "          (lnmid): FusedLayerNorm(torch.Size([1024]), eps=1e-12, elementwise_affine=True)\n",
       "          (lnmem): FusedLayerNorm(torch.Size([1024]), eps=1e-12, elementwise_affine=True)\n",
       "          (lnout): FusedLayerNorm(torch.Size([1024]), eps=1e-12, elementwise_affine=True)\n",
       "          (lnff): FusedLayerNorm(torch.Size([1024]), eps=1e-12, elementwise_affine=True)\n",
       "          (lnxff): FusedLayerNorm(torch.Size([1024]), eps=1e-12, elementwise_affine=True)\n",
       "          (drop): Dropout(p=0.1, inplace=False)\n",
       "          (gelu): GELU()\n",
       "          (rnn): LSTM(1024, 1024)\n",
       "        )\n",
       "        (3): Block(\n",
       "          (ff): Boom(\n",
       "            (linear1): Linear(in_features=1024, out_features=4096, bias=True)\n",
       "            (dropout): Dropout(p=0.1, inplace=False)\n",
       "            (act): GELU()\n",
       "          )\n",
       "          (lnstart): FusedLayerNorm(torch.Size([1024]), eps=1e-12, elementwise_affine=True)\n",
       "          (lnmid): FusedLayerNorm(torch.Size([1024]), eps=1e-12, elementwise_affine=True)\n",
       "          (lnmem): FusedLayerNorm(torch.Size([1024]), eps=1e-12, elementwise_affine=True)\n",
       "          (lnout): FusedLayerNorm(torch.Size([1024]), eps=1e-12, elementwise_affine=True)\n",
       "          (lnff): FusedLayerNorm(torch.Size([1024]), eps=1e-12, elementwise_affine=True)\n",
       "          (lnxff): FusedLayerNorm(torch.Size([1024]), eps=1e-12, elementwise_affine=True)\n",
       "          (drop): Dropout(p=0.1, inplace=False)\n",
       "          (gelu): GELU()\n",
       "          (rnn): LSTM(1024, 1024)\n",
       "        )\n",
       "      )\n",
       "      (encoder): Embedding(60000, 1024)\n",
       "      (decoder): Linear(in_features=1024, out_features=60000, bias=True)\n",
       "    )\n",
       "  )\n",
       "  (1): LinearDecoder(\n",
       "    (decoder): Linear(in_features=1024, out_features=60000, bias=True)\n",
       "    (output_dp): RNNDropout()\n",
       "  )\n",
       "), opt_func=functools.partial(<class 'torch.optim.adam.Adam'>, betas=(0.9, 0.99)), loss_func=FlattenedLoss of CrossEntropyLoss(), metrics=[<function accuracy at 0x7f2ec7210560>], true_wd=True, bn_wd=True, wd=0.01, train_bn=True, path=PosixPath('/workspace/data/sha_rnn'), model_dir='models', callback_fns=[functools.partial(<class 'fastai.basic_train.Recorder'>, add_time=True, silent=False)], callbacks=[RNNTrainer\n",
       "learn: ...\n",
       "alpha: 2.0\n",
       "beta: 1.0], layer_groups=[Sequential(\n",
       "  (0): Dropout(p=0.1, inplace=False)\n",
       "  (1): Dropout(p=0.1, inplace=False)\n",
       "  (2): Dropout(p=0.1, inplace=False)\n",
       "  (3): Linear(in_features=1024, out_features=4096, bias=True)\n",
       "  (4): Dropout(p=0.1, inplace=False)\n",
       "  (5): GELU()\n",
       "  (6): FusedLayerNorm(torch.Size([1024]), eps=1e-12, elementwise_affine=True)\n",
       "  (7): FusedLayerNorm(torch.Size([1024]), eps=1e-12, elementwise_affine=True)\n",
       "  (8): FusedLayerNorm(torch.Size([1024]), eps=1e-12, elementwise_affine=True)\n",
       "  (9): FusedLayerNorm(torch.Size([1024]), eps=1e-12, elementwise_affine=True)\n",
       "  (10): FusedLayerNorm(torch.Size([1024]), eps=1e-12, elementwise_affine=True)\n",
       "  (11): FusedLayerNorm(torch.Size([1024]), eps=1e-12, elementwise_affine=True)\n",
       "  (12): Dropout(p=0.1, inplace=False)\n",
       "  (13): GELU()\n",
       "  (14): LSTM(1024, 1024)\n",
       "  (15): Linear(in_features=1024, out_features=4096, bias=True)\n",
       "  (16): Dropout(p=0.1, inplace=False)\n",
       "  (17): GELU()\n",
       "  (18): FusedLayerNorm(torch.Size([1024]), eps=1e-12, elementwise_affine=True)\n",
       "  (19): FusedLayerNorm(torch.Size([1024]), eps=1e-12, elementwise_affine=True)\n",
       "  (20): FusedLayerNorm(torch.Size([1024]), eps=1e-12, elementwise_affine=True)\n",
       "  (21): FusedLayerNorm(torch.Size([1024]), eps=1e-12, elementwise_affine=True)\n",
       "  (22): FusedLayerNorm(torch.Size([1024]), eps=1e-12, elementwise_affine=True)\n",
       "  (23): FusedLayerNorm(torch.Size([1024]), eps=1e-12, elementwise_affine=True)\n",
       "  (24): Dropout(p=0.1, inplace=False)\n",
       "  (25): GELU()\n",
       "  (26): LSTM(1024, 1024)\n",
       "  (27): Dropout(p=0.1, inplace=False)\n",
       "  (28): GELU()\n",
       "  (29): Linear(in_features=1024, out_features=1024, bias=True)\n",
       "  (30): FusedLayerNorm(torch.Size([1024]), eps=1e-12, elementwise_affine=True)\n",
       "  (31): Linear(in_features=1024, out_features=2048, bias=True)\n",
       "  (32): ParameterModule()\n",
       "  (33): ParameterModule()\n",
       "  (34): ParameterModule()\n",
       "  (35): ParameterModule()\n",
       "  (36): ParameterModule()\n",
       "  (37): Linear(in_features=1024, out_features=4096, bias=True)\n",
       "  (38): Dropout(p=0.1, inplace=False)\n",
       "  (39): GELU()\n",
       "  (40): FusedLayerNorm(torch.Size([1024]), eps=1e-12, elementwise_affine=True)\n",
       "  (41): FusedLayerNorm(torch.Size([1024]), eps=1e-12, elementwise_affine=True)\n",
       "  (42): FusedLayerNorm(torch.Size([1024]), eps=1e-12, elementwise_affine=True)\n",
       "  (43): FusedLayerNorm(torch.Size([1024]), eps=1e-12, elementwise_affine=True)\n",
       "  (44): FusedLayerNorm(torch.Size([1024]), eps=1e-12, elementwise_affine=True)\n",
       "  (45): FusedLayerNorm(torch.Size([1024]), eps=1e-12, elementwise_affine=True)\n",
       "  (46): Dropout(p=0.1, inplace=False)\n",
       "  (47): GELU()\n",
       "  (48): LSTM(1024, 1024)\n",
       "  (49): Linear(in_features=1024, out_features=4096, bias=True)\n",
       "  (50): Dropout(p=0.1, inplace=False)\n",
       "  (51): GELU()\n",
       "  (52): FusedLayerNorm(torch.Size([1024]), eps=1e-12, elementwise_affine=True)\n",
       "  (53): FusedLayerNorm(torch.Size([1024]), eps=1e-12, elementwise_affine=True)\n",
       "  (54): FusedLayerNorm(torch.Size([1024]), eps=1e-12, elementwise_affine=True)\n",
       "  (55): FusedLayerNorm(torch.Size([1024]), eps=1e-12, elementwise_affine=True)\n",
       "  (56): FusedLayerNorm(torch.Size([1024]), eps=1e-12, elementwise_affine=True)\n",
       "  (57): FusedLayerNorm(torch.Size([1024]), eps=1e-12, elementwise_affine=True)\n",
       "  (58): Dropout(p=0.1, inplace=False)\n",
       "  (59): GELU()\n",
       "  (60): LSTM(1024, 1024)\n",
       "  (61): Embedding(60000, 1024)\n",
       "  (62): Linear(in_features=1024, out_features=60000, bias=True)\n",
       "  (63): Linear(in_features=1024, out_features=60000, bias=True)\n",
       "  (64): RNNDropout()\n",
       ")], add_time=True, silent=False)"
      ]
     },
     "execution_count": 15,
     "metadata": {},
     "output_type": "execute_result"
    }
   ],
   "source": [
    "learn.load(\"/workspace/data/sha_rnn/models/ft_stage1\")"
   ]
  },
  {
   "cell_type": "code",
   "execution_count": 50,
   "metadata": {},
   "outputs": [],
   "source": [
    "for name, p in learn.model.named_parameters():\n",
    "    p.requires_grad = True"
   ]
  },
  {
   "cell_type": "code",
   "execution_count": 51,
   "metadata": {},
   "outputs": [
    {
     "data": {
      "text/html": [
       "\n",
       "    <div>\n",
       "        <style>\n",
       "            /* Turns off some styling */\n",
       "            progress {\n",
       "                /* gets rid of default border in Firefox and Opera. */\n",
       "                border: none;\n",
       "                /* Needs to be in here for Safari polyfill so background images work as expected. */\n",
       "                background-size: auto;\n",
       "            }\n",
       "            .progress-bar-interrupted, .progress-bar-interrupted::-webkit-progress-bar {\n",
       "                background: #F44336;\n",
       "            }\n",
       "        </style>\n",
       "      <progress value='0' class='' max='1', style='width:300px; height:20px; vertical-align: middle;'></progress>\n",
       "      0.00% [0/1 00:00<00:00]\n",
       "    </div>\n",
       "    \n",
       "<table border=\"1\" class=\"dataframe\">\n",
       "  <thead>\n",
       "    <tr style=\"text-align: left;\">\n",
       "      <th>epoch</th>\n",
       "      <th>train_loss</th>\n",
       "      <th>valid_loss</th>\n",
       "      <th>accuracy</th>\n",
       "      <th>time</th>\n",
       "    </tr>\n",
       "  </thead>\n",
       "  <tbody>\n",
       "  </tbody>\n",
       "</table><p>\n",
       "\n",
       "    <div>\n",
       "        <style>\n",
       "            /* Turns off some styling */\n",
       "            progress {\n",
       "                /* gets rid of default border in Firefox and Opera. */\n",
       "                border: none;\n",
       "                /* Needs to be in here for Safari polyfill so background images work as expected. */\n",
       "                background-size: auto;\n",
       "            }\n",
       "            .progress-bar-interrupted, .progress-bar-interrupted::-webkit-progress-bar {\n",
       "                background: #F44336;\n",
       "            }\n",
       "        </style>\n",
       "      <progress value='74' class='' max='6025', style='width:300px; height:20px; vertical-align: middle;'></progress>\n",
       "      1.23% [74/6025 01:00<1:21:17 17.2029]\n",
       "    </div>\n",
       "    "
      ],
      "text/plain": [
       "<IPython.core.display.HTML object>"
      ]
     },
     "metadata": {},
     "output_type": "display_data"
    },
    {
     "name": "stdout",
     "output_type": "stream",
     "text": [
      "LR Finder is complete, type {learner_name}.recorder.plot() to see the graph.\n"
     ]
    }
   ],
   "source": [
    "learn.lr_find()"
   ]
  },
  {
   "cell_type": "code",
   "execution_count": 52,
   "metadata": {},
   "outputs": [
    {
     "data": {
      "image/png": "[encoded data removed]",
      "text/plain": [
       "<Figure size 432x288 with 1 Axes>"
      ]
     },
     "metadata": {
      "needs_background": "light"
     },
     "output_type": "display_data"
    }
   ],
   "source": [
    "learn.recorder.plot()"
   ]
  },
  {
   "cell_type": "code",
   "execution_count": 53,
   "metadata": {},
   "outputs": [
    {
     "data": {
      "text/html": [
       "<table border=\"1\" class=\"dataframe\">\n",
       "  <thead>\n",
       "    <tr style=\"text-align: left;\">\n",
       "      <th>epoch</th>\n",
       "      <th>train_loss</th>\n",
       "      <th>valid_loss</th>\n",
       "      <th>accuracy</th>\n",
       "      <th>time</th>\n",
       "    </tr>\n",
       "  </thead>\n",
       "  <tbody>\n",
       "    <tr>\n",
       "      <td>0</td>\n",
       "      <td>4.137009</td>\n",
       "      <td>3.992794</td>\n",
       "      <td>0.300795</td>\n",
       "      <td>1:42:41</td>\n",
       "    </tr>\n",
       "    <tr>\n",
       "      <td>1</td>\n",
       "      <td>4.004018</td>\n",
       "      <td>3.877979</td>\n",
       "      <td>0.313333</td>\n",
       "      <td>1:42:28</td>\n",
       "    </tr>\n",
       "    <tr>\n",
       "      <td>2</td>\n",
       "      <td>3.943250</td>\n",
       "      <td>3.825133</td>\n",
       "      <td>0.318933</td>\n",
       "      <td>1:42:19</td>\n",
       "    </tr>\n",
       "    <tr>\n",
       "      <td>3</td>\n",
       "      <td>3.893177</td>\n",
       "      <td>3.801575</td>\n",
       "      <td>0.321535</td>\n",
       "      <td>1:42:25</td>\n",
       "    </tr>\n",
       "    <tr>\n",
       "      <td>4</td>\n",
       "      <td>3.894965</td>\n",
       "      <td>3.797463</td>\n",
       "      <td>0.322054</td>\n",
       "      <td>1:42:25</td>\n",
       "    </tr>\n",
       "  </tbody>\n",
       "</table>"
      ],
      "text/plain": [
       "<IPython.core.display.HTML object>"
      ]
     },
     "metadata": {},
     "output_type": "display_data"
    }
   ],
   "source": [
    "learn.fit_one_cycle(5, 1e-4, moms=(0.8,0.7), wd=0.1)"
   ]
  },
  {
   "cell_type": "code",
   "execution_count": 54,
   "metadata": {},
   "outputs": [],
   "source": [
    "learn.save(\"/workspace/data/sha_rnn/models/ft_stage2\")"
   ]
  }
 ],
 "metadata": {
  "kernelspec": {
   "display_name": "Python 3",
   "language": "python",
   "name": "python3"
  },
  "language_info": {
   "codemirror_mode": {
    "name": "ipython",
    "version": 3
   },
   "file_extension": ".py",
   "mimetype": "text/x-python",
   "name": "python",
   "nbconvert_exporter": "python",
   "pygments_lexer": "ipython3",
   "version": "3.7.4"
  },
  "widgets": {
   "application/vnd.jupyter.widget-state+json": {
    "state": {},
    "version_major": 2,
    "version_minor": 0
   }
  }
 },
 "nbformat": 4,
 "nbformat_minor": 4
}
